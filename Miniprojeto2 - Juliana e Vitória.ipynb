{
 "cells": [
  {
   "cell_type": "markdown",
   "metadata": {},
   "source": [
    "# Miniprojeto 2"
   ]
  },
  {
   "cell_type": "markdown",
   "metadata": {},
   "source": [
    "## Juliana Pessoa e Vitória Rocha - 2B"
   ]
  },
  {
   "cell_type": "markdown",
   "metadata": {},
   "source": [
    " "
   ]
  },
  {
   "cell_type": "markdown",
   "metadata": {},
   "source": [
    "### Objetivo:"
   ]
  },
  {
   "cell_type": "markdown",
   "metadata": {},
   "source": [
    "O objetivo deste miniprojeto é que o aluno seja capaz de compreender e explicar o resultado do Teorema do Limite Central (TLC) por meio de simulação, uma vez que a demonstração teórica é complexa e requer conhecimento de outras teorias avançadas."
   ]
  },
  {
   "cell_type": "code",
   "execution_count": 12,
   "metadata": {
    "collapsed": true
   },
   "outputs": [],
   "source": [
    "%matplotlib inline\n",
    "import matplotlib.pyplot as plt\n",
    "import numpy as np\n",
    "import pandas as pd\n",
    "import os\n",
    "from scipy import stats\n",
    "import random\n",
    "import warnings\n",
    "warnings.filterwarnings('ignore')"
   ]
  },
  {
   "cell_type": "code",
   "execution_count": 2,
   "metadata": {
    "collapsed": false
   },
   "outputs": [
    {
     "data": {
      "text/plain": [
       "array([ 5.88723665,  4.35154824,  4.46900261, ...,  4.39426906,\n",
       "        4.09741945,  4.32615752])"
      ]
     },
     "execution_count": 2,
     "metadata": {},
     "output_type": "execute_result"
    }
   ],
   "source": [
    "#Exponencial - parâmetros da população e sorteio aleatório do tamanho da amostra\n",
    "\n",
    "alpha = 4\n",
    "\n",
    "variavel = stats.expon.rvs(alpha, size=1000000)\n",
    "variavel"
   ]
  },
  {
   "cell_type": "code",
   "execution_count": 3,
   "metadata": {
    "collapsed": false
   },
   "outputs": [
    {
     "name": "stdout",
     "output_type": "stream",
     "text": [
      "Média populacional: 0.25\n"
     ]
    }
   ],
   "source": [
    "mu = 1/alpha\n",
    "print(\"Média populacional:\", mu)"
   ]
  },
  {
   "cell_type": "code",
   "execution_count": 4,
   "metadata": {
    "collapsed": false
   },
   "outputs": [
    {
     "name": "stdout",
     "output_type": "stream",
     "text": [
      "Variância populacional: 0.0625\n"
     ]
    }
   ],
   "source": [
    "var = 1/(alpha)**2\n",
    "print(\"Variância populacional:\", var)"
   ]
  },
  {
   "cell_type": "code",
   "execution_count": 29,
   "metadata": {
    "collapsed": false
   },
   "outputs": [
    {
     "name": "stdout",
     "output_type": "stream",
     "text": [
      "Para n = 2 :\n",
      "X̅ - média amostral: 5.00186618588\n",
      "μ - média das médias amostrais: 5.00186618588\n",
      "σ²/var - variância das médias amostrais: 0.497502076694\n"
     ]
    },
    {
     "data": {
      "text/plain": [
       "(array([ 190.,  431.,  599.,  658.,  742.,  771.,  714.,  665.,  619.,\n",
       "         554.,  503.,  434.,  400.,  353.,  360.,  264.,  241.,  213.,\n",
       "         188.,  187.,  143.,   97.,  105.,   74.,   87.,   69.,   62.,\n",
       "          44.,   32.,   29.,   27.,   26.,   19.,   15.,   16.,    8.,\n",
       "           8.,    9.,    5.,   11.,    6.,    4.,    4.,    4.,    2.,\n",
       "           2.,    1.,    1.,    0.]),\n",
       " array([ 4. ,  4.1,  4.2,  4.3,  4.4,  4.5,  4.6,  4.7,  4.8,  4.9,  5. ,\n",
       "         5.1,  5.2,  5.3,  5.4,  5.5,  5.6,  5.7,  5.8,  5.9,  6. ,  6.1,\n",
       "         6.2,  6.3,  6.4,  6.5,  6.6,  6.7,  6.8,  6.9,  7. ,  7.1,  7.2,\n",
       "         7.3,  7.4,  7.5,  7.6,  7.7,  7.8,  7.9,  8. ,  8.1,  8.2,  8.3,\n",
       "         8.4,  8.5,  8.6,  8.7,  8.8,  8.9]),\n",
       " <a list of 49 Patch objects>)"
      ]
     },
     "execution_count": 29,
     "metadata": {},
     "output_type": "execute_result"
    },
    {
     "data": {
      "image/png": "[encoded data removed]",
      "text/plain": [
       "<matplotlib.figure.Figure at 0x1a5a4c96f98>"
      ]
     },
     "metadata": {},
     "output_type": "display_data"
    }
   ],
   "source": [
    "#Construindo a distribuição da média amostral\n",
    "\n",
    "n=2\n",
    "medias=[]\n",
    "\n",
    "for i in range(10000):\n",
    "\n",
    "    random_exemplo = np.random.choice(variavel, size=n)\n",
    "\n",
    "    media_amostral=np.mean(random_exemplo)\n",
    "\n",
    "    medias.append(media_amostral)\n",
    "    \n",
    "print(\"Para n =\",n,\":\")\n",
    "print(\"X̅ - média amostral:\", np.mean(medias))\n",
    "print(\"μ - média das médias amostrais:\", np.mean(medias))\n",
    "print(\"σ²/var - variância das médias amostrais:\", np.var(medias))\n",
    "\n",
    "hist = plt.hist(medias, bins = np.arange(4,9,0.1), color=\"pink\")\n",
    "hist"
   ]
  },
  {
   "cell_type": "code",
   "execution_count": 30,
   "metadata": {
    "collapsed": false
   },
   "outputs": [
    {
     "name": "stdout",
     "output_type": "stream",
     "text": [
      "Para n = 4 :\n",
      "X̅ - média amostral: 5.00468318573\n",
      "μ - média das médias amostrais: 5.00468318573\n",
      "σ²/var - variância das médias amostrais: 0.255102446246\n"
     ]
    },
    {
     "data": {
      "text/plain": [
       "(array([  10.,   83.,  264.,  450.,  614.,  755.,  854.,  909.,  875.,\n",
       "         785.,  755.,  644.,  580.,  502.,  384.,  344.,  264.,  207.,\n",
       "         154.,  142.,   86.,   80.,   67.,   37.,   41.,   24.,   21.,\n",
       "          13.,   13.,   16.,   12.,    5.,    2.,    4.,    0.,    0.,\n",
       "           0.,    1.,    0.]),\n",
       " array([ 4. ,  4.1,  4.2,  4.3,  4.4,  4.5,  4.6,  4.7,  4.8,  4.9,  5. ,\n",
       "         5.1,  5.2,  5.3,  5.4,  5.5,  5.6,  5.7,  5.8,  5.9,  6. ,  6.1,\n",
       "         6.2,  6.3,  6.4,  6.5,  6.6,  6.7,  6.8,  6.9,  7. ,  7.1,  7.2,\n",
       "         7.3,  7.4,  7.5,  7.6,  7.7,  7.8,  7.9]),\n",
       " <a list of 39 Patch objects>)"
      ]
     },
     "execution_count": 30,
     "metadata": {},
     "output_type": "execute_result"
    },
    {
     "data": {
      "image/png": "[encoded data removed]",
      "text/plain": [
       "<matplotlib.figure.Figure at 0x1a5a4e3b080>"
      ]
     },
     "metadata": {},
     "output_type": "display_data"
    }
   ],
   "source": [
    "n=4\n",
    "medias=[]\n",
    "\n",
    "for i in range(10000):\n",
    "\n",
    "    random_exemplo = np.random.choice(variavel, size=n)\n",
    "\n",
    "    media_amostral=np.mean(random_exemplo)\n",
    "\n",
    "    medias.append(media_amostral)\n",
    "    \n",
    "print(\"Para n =\",n,\":\")\n",
    "print(\"X̅ - média amostral:\", np.mean(medias))\n",
    "print(\"μ - média das médias amostrais:\", np.mean(medias))\n",
    "print(\"σ²/var - variância das médias amostrais:\", np.var(medias))\n",
    "\n",
    "hist = plt.hist(medias, bins = np.arange(4,8,0.1), color=\"c\")\n",
    "hist"
   ]
  },
  {
   "cell_type": "code",
   "execution_count": 31,
   "metadata": {
    "collapsed": false
   },
   "outputs": [
    {
     "name": "stdout",
     "output_type": "stream",
     "text": [
      "Para n = 20 :\n",
      "X̅ - média amostral: 4.99834857205\n",
      "μ - média das médias amostrais: 4.99834857205\n",
      "σ²/var - variância das médias amostrais: 0.0485888264185\n"
     ]
    },
    {
     "data": {
      "text/plain": [
       "(array([  0.00000000e+00,   0.00000000e+00,   0.00000000e+00,\n",
       "          0.00000000e+00,   0.00000000e+00,   0.00000000e+00,\n",
       "          0.00000000e+00,   0.00000000e+00,   0.00000000e+00,\n",
       "          0.00000000e+00,   0.00000000e+00,   0.00000000e+00,\n",
       "          0.00000000e+00,   1.00000000e+00,   3.00000000e+01,\n",
       "          1.79000000e+02,   5.36000000e+02,   1.13000000e+03,\n",
       "          1.58500000e+03,   1.82200000e+03,   1.71400000e+03,\n",
       "          1.24200000e+03,   8.30000000e+02,   4.84000000e+02,\n",
       "          2.50000000e+02,   1.14000000e+02,   5.40000000e+01,\n",
       "          2.30000000e+01,   3.00000000e+00,   1.00000000e+00,\n",
       "          2.00000000e+00,   0.00000000e+00,   0.00000000e+00,\n",
       "          0.00000000e+00,   0.00000000e+00,   0.00000000e+00,\n",
       "          0.00000000e+00,   0.00000000e+00,   0.00000000e+00]),\n",
       " array([ 3. ,  3.1,  3.2,  3.3,  3.4,  3.5,  3.6,  3.7,  3.8,  3.9,  4. ,\n",
       "         4.1,  4.2,  4.3,  4.4,  4.5,  4.6,  4.7,  4.8,  4.9,  5. ,  5.1,\n",
       "         5.2,  5.3,  5.4,  5.5,  5.6,  5.7,  5.8,  5.9,  6. ,  6.1,  6.2,\n",
       "         6.3,  6.4,  6.5,  6.6,  6.7,  6.8,  6.9]),\n",
       " <a list of 39 Patch objects>)"
      ]
     },
     "execution_count": 31,
     "metadata": {},
     "output_type": "execute_result"
    },
    {
     "data": {
      "image/png": "[encoded data removed]",
      "text/plain": [
       "<matplotlib.figure.Figure at 0x1a5a4f220f0>"
      ]
     },
     "metadata": {},
     "output_type": "display_data"
    }
   ],
   "source": [
    "n=20\n",
    "medias=[]\n",
    "\n",
    "for i in range(10000):\n",
    "\n",
    "    random_exemplo = np.random.choice(variavel, size=n)\n",
    "\n",
    "    media_amostral=np.mean(random_exemplo)\n",
    "\n",
    "    medias.append(media_amostral)\n",
    "    \n",
    "print(\"Para n =\",n,\":\")\n",
    "print(\"X̅ - média amostral:\", np.mean(medias))\n",
    "print(\"μ - média das médias amostrais:\", np.mean(medias))\n",
    "print(\"σ²/var - variância das médias amostrais:\", np.var(medias))\n",
    "\n",
    "hist = plt.hist(medias, bins = np.arange(3,7,0.1), color=\"orange\")\n",
    "hist"
   ]
  },
  {
   "cell_type": "code",
   "execution_count": 32,
   "metadata": {
    "collapsed": false
   },
   "outputs": [
    {
     "name": "stdout",
     "output_type": "stream",
     "text": [
      "Para n = 50 :\n",
      "X̅ - média amostral: 5.00133056477\n",
      "μ - média das médias amostrais: 5.00133056477\n",
      "σ²/var - variância das médias amostrais: 0.0199848290266\n"
     ]
    },
    {
     "data": {
      "text/plain": [
       "(array([  0.00000000e+00,   0.00000000e+00,   0.00000000e+00,\n",
       "          0.00000000e+00,   0.00000000e+00,   3.00000000e+00,\n",
       "          8.40000000e+01,   6.11000000e+02,   1.74900000e+03,\n",
       "          2.71000000e+03,   2.44400000e+03,   1.52300000e+03,\n",
       "          6.59000000e+02,   1.62000000e+02,   4.70000000e+01,\n",
       "          7.00000000e+00,   1.00000000e+00,   0.00000000e+00,\n",
       "          0.00000000e+00]),\n",
       " array([ 4. ,  4.1,  4.2,  4.3,  4.4,  4.5,  4.6,  4.7,  4.8,  4.9,  5. ,\n",
       "         5.1,  5.2,  5.3,  5.4,  5.5,  5.6,  5.7,  5.8,  5.9]),\n",
       " <a list of 19 Patch objects>)"
      ]
     },
     "execution_count": 32,
     "metadata": {},
     "output_type": "execute_result"
    },
    {
     "data": {
      "image/png": "[encoded data removed]",
      "text/plain": [
       "<matplotlib.figure.Figure at 0x1a5a500f080>"
      ]
     },
     "metadata": {},
     "output_type": "display_data"
    }
   ],
   "source": [
    "n=50\n",
    "medias=[]\n",
    "\n",
    "for i in range(10000):\n",
    "\n",
    "    random_exemplo = np.random.choice(variavel, size=n)\n",
    "\n",
    "    media_amostral=np.mean(random_exemplo)\n",
    "\n",
    "    medias.append(media_amostral)\n",
    "    \n",
    "print(\"Para n =\",n,\":\")\n",
    "print(\"X̅ - média amostral:\", np.mean(medias))\n",
    "print(\"μ - média das médias amostrais:\", np.mean(medias))\n",
    "print(\"σ²/var - variância das médias amostrais:\", np.var(medias))\n",
    "\n",
    "hist = plt.hist(medias, bins = np.arange(4,6,0.1), color=\"violet\")\n",
    "hist"
   ]
  },
  {
   "cell_type": "markdown",
   "metadata": {},
   "source": [
    "### Conclusão"
   ]
  },
  {
   "cell_type": "markdown",
   "metadata": {},
   "source": [
    "O teorema do limite central é um importante fruto da estatística. Com ele, é possível fazer outras várias resoluções e demonstrações de  teorias probabilísticas. Esse teorema comprova que, quanto maior é a amostra, mais a distribuição amostral da média se aproxima de uma distribuição normal. Ao mesmo tempo, a variância diminui.\n",
    "\n",
    "Esse teorema faz parte do ramo da estatística chamado \"inferência estatísitica\" e é útil para estimar parâmetros até a probabilidade de um dado parâmetro acontecer, a partir do intervalo, da média amostral e do desvio padrão.\n",
    "\n",
    "Ao final da simulação, conclui-se que para tamanhos maiores de amostra, menos heterogênea ela se torna. Ou seja, a média amostral se acima de um valor, e a variância diminui consequentemente. Dessa forma, a análise de resultados torna-se mais precisa."
   ]
  },
  {
   "cell_type": "code",
   "execution_count": 10,
   "metadata": {
    "collapsed": false
   },
   "outputs": [],
   "source": [
    "z = 0\n",
    "n = 0\n",
    "lista_medias = []\n",
    "lista1 = []\n",
    "lista9 = []\n",
    "while z < 10000: \n",
    "    while n < 50:\n",
    "        a = np.random.choice(variavel)\n",
    "        if n == 1:\n",
    "            lista1.append(a)\n",
    "        elif n == 9:\n",
    "            lista9.append(a)\n",
    "        n+=1\n",
    "    z+=1\n",
    "    n=0"
   ]
  },
  {
   "cell_type": "code",
   "execution_count": 27,
   "metadata": {
    "collapsed": false
   },
   "outputs": [
    {
     "data": {
      "text/plain": [
       "<matplotlib.text.Text at 0x1a5a4b61c18>"
      ]
     },
     "execution_count": 27,
     "metadata": {},
     "output_type": "execute_result"
    },
    {
     "data": {
      "image/png": "[encoded data removed]",
      "text/plain": [
       "<matplotlib.figure.Figure at 0x1a5a4aa19e8>"
      ]
     },
     "metadata": {},
     "output_type": "display_data"
    }
   ],
   "source": [
    "faixa = np.arange(4,9,0.1)\n",
    "l1 = pd.Series(lista1)\n",
    "l9 = pd.Series(lista9)\n",
    "l1.hist(bins = faixa, normed=True, color=\"pink\")\n",
    "plt.title (\"Histograma para X1\")"
   ]
  },
  {
   "cell_type": "code",
   "execution_count": 28,
   "metadata": {
    "collapsed": false
   },
   "outputs": [
    {
     "data": {
      "text/plain": [
       "<matplotlib.text.Text at 0x1a5a4c66e10>"
      ]
     },
     "execution_count": 28,
     "metadata": {},
     "output_type": "execute_result"
    },
    {
     "data": {
      "image/png": "[encoded data removed]",
      "text/plain": [
       "<matplotlib.figure.Figure at 0x1a5a4a829e8>"
      ]
     },
     "metadata": {},
     "output_type": "display_data"
    }
   ],
   "source": [
    "l9.hist(bins = faixa, normed=True, color=\"c\")\n",
    "plt.title (\"Histograma para X2\")"
   ]
  },
  {
   "cell_type": "code",
   "execution_count": 26,
   "metadata": {
    "collapsed": false
   },
   "outputs": [
    {
     "name": "stdout",
     "output_type": "stream",
     "text": [
      "Correlação entre X1 e X9: 0.00191971172488\n"
     ]
    }
   ],
   "source": [
    "correlacao = l1.corr(l9)\n",
    "print (\"Correlação entre X1 e X9:\", correlacao)"
   ]
  },
  {
   "cell_type": "markdown",
   "metadata": {},
   "source": [
    "### Conclusão"
   ]
  },
  {
   "cell_type": "markdown",
   "metadata": {},
   "source": [
    "Com os dois últimos histogramas projetados, foi possível observar grande semelhança com o \"Histograma para n=2\", em que foi feita a média amostral para dois valores aleatórios da amostra. \n",
    "\n",
    "Nos dois casos acima, foram feitos histogramas para dois valores específicos: o primeiro e o nono valor da amostra. Por mais que se aumente o número de valores retirados da amostra, os histogramas continuarão semelhantes. Contudo, caso seja feita a média entre esses valores sorteados para cada \"loop\", o hisograma estará mais próximo de uma distribuição normal conforme o número de valores sorteados aumente. \n",
    "\n",
    "Além disso, um dado importante é fato de os valores na amostra serem idênticamente distribuídos, ou seja, independemente de qual X usar em um sorteio aleatório da amostra, a distribuição será sempre muito semelhante à dos dois histogramas acima."
   ]
  }
 ],
 "metadata": {
  "kernelspec": {
   "display_name": "Python 3",
   "language": "python",
   "name": "python3"
  },
  "language_info": {
   "codemirror_mode": {
    "name": "ipython",
    "version": 3
   },
   "file_extension": ".py",
   "mimetype": "text/x-python",
   "name": "python",
   "nbconvert_exporter": "python",
   "pygments_lexer": "ipython3",
   "version": "3.5.1"
  }
 },
 "nbformat": 4,
 "nbformat_minor": 0
}
